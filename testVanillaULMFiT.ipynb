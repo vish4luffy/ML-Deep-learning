{
 "cells": [
  {
   "cell_type": "code",
   "execution_count": 1,
   "metadata": {},
   "outputs": [],
   "source": [
    "# !git clone https://github.com/salesforce/awd-lstm-lm.git"
   ]
  },
  {
   "cell_type": "code",
   "execution_count": 2,
   "metadata": {},
   "outputs": [],
   "source": [
    "import argparse\n",
    "import time\n",
    "import math\n",
    "import numpy as np\n",
    "np.random.seed(331)\n",
    "import torch\n",
    "import torch.nn as nn\n",
    "import os, sys\n",
    "\n",
    "sys.path.append('/home/amank/Documents/projects/ulmfit/awd-lstm-lm/')\n",
    "\n",
    "from torch.autograd import Variable\n",
    "import data\n",
    "import model\n",
    "from embed_regularize import embedded_dropout\n",
    "from locked_dropout import LockedDropout\n",
    "from weight_drop import WeightDrop\n",
    "from utils import batchify, get_batch, repackage_hidden\n",
    "import hashlib\n",
    "import pickle"
   ]
  },
  {
   "cell_type": "code",
   "execution_count": 3,
   "metadata": {},
   "outputs": [
    {
     "name": "stdout",
     "output_type": "stream",
     "text": [
      "/home/amank/Documents/projects/ulmfit\r\n"
     ]
    }
   ],
   "source": [
    "!pwd"
   ]
  },
  {
   "cell_type": "code",
   "execution_count": 6,
   "metadata": {},
   "outputs": [],
   "source": [
    "# !python awd-lstm-lm/main.py --batch_size 20 --data /home/amank/Documents/projects/ulmfit/awd-lstm-lm/data/ptb --dropouti 0.4 --dropouth 0.25 --seed 141 --epoch 500 --save PTB.pt"
   ]
  },
  {
   "cell_type": "code",
   "execution_count": 4,
   "metadata": {},
   "outputs": [],
   "source": [
    "randomhash = ''.join(str(time.time()).split('.'))\n",
    "\n",
    "# ntokens - what is this? - I believe this denotes the number of strings in wikiText-103\n",
    "args_data='/home/amank/Documents/projects/ulmfit/awd-lstm-lm/data/ptb/'\n",
    "args_model='LSTM'\n",
    "args_embedSize=400 \n",
    "args_nhid=1150\n",
    "args_nlayers=3\n",
    "args_lr=30\n",
    "args_clip=0.25\n",
    "args_epochs=8000\n",
    "# args_batchSize=80 # for WT-2\n",
    "args_batchSize=40 # for PTB dataset\n",
    "args_bptt=70\n",
    "args_dropout=0.4 \n",
    "args_dropouth=0.3\n",
    "args_dropouti=0.65\n",
    "args_dropoute=0.1 \n",
    "args_wdrop=0.5 \n",
    "args_tied=True\n",
    "args_seed=1111\n",
    "args_nonMono=5\n",
    "args_cuda=True # 'store_false'\n",
    "args_logInterval=200\n",
    "args_save=randomhash+'.pt'\n",
    "args_alpha=2\n",
    "args_beta=1\n",
    "args_wDecay=1.2e-6"
   ]
  },
  {
   "cell_type": "code",
   "execution_count": 5,
   "metadata": {},
   "outputs": [],
   "source": [
    "obj = pickle.load(open(args_data+'itos_wt103.pkl', \"rb\"))\n",
    "args_numTokens=len(obj)"
   ]
  },
  {
   "cell_type": "code",
   "execution_count": 6,
   "metadata": {},
   "outputs": [
    {
     "name": "stdout",
     "output_type": "stream",
     "text": [
      "Applying weight drop of 0.5 to weight_hh_l0\n",
      "Applying weight drop of 0.5 to weight_hh_l0\n",
      "Applying weight drop of 0.5 to weight_hh_l0\n",
      "[WeightDrop(\n",
      "  (module): LSTM(400, 1150)\n",
      "), WeightDrop(\n",
      "  (module): LSTM(1150, 1150)\n",
      "), WeightDrop(\n",
      "  (module): LSTM(1150, 400)\n",
      ")]\n"
     ]
    }
   ],
   "source": [
    "model2 = model.RNNModel(args_model, args_numTokens, args_embedSize, args_nhid, args_nlayers, args_dropout, args_dropouth, args_dropouti, args_dropoute, args_wdrop, args_tied)"
   ]
  },
  {
   "cell_type": "code",
   "execution_count": 7,
   "metadata": {},
   "outputs": [
    {
     "name": "stdout",
     "output_type": "stream",
     "text": [
      "Model total parameters: 115834862\n"
     ]
    }
   ],
   "source": [
    "total_params = sum(x.size()[0] * x.size()[1] if len(x.size()) > 1 else x.size()[0] for x in model2.parameters())\n",
    "print('Model total parameters:', total_params)"
   ]
  },
  {
   "cell_type": "code",
   "execution_count": 8,
   "metadata": {},
   "outputs": [],
   "source": [
    "# pretrained from ptb word level dataset\n",
    "pretrained_model_weights=torch.load('/home/amank/Documents/projects/ulmfit/'+'converted_model.pth')\n",
    "model2_dict = model2.state_dict()\n",
    "\n",
    "# # 1. filter out unnecessary keys\n",
    "pretrained_dict = {k: v for k, v in pretrained_model_weights.items() if k in model2_dict}\n",
    "# # 2. overwrite entries in the existing state dict\n",
    "model2_dict.update(pretrained_dict) \n",
    "# # 3. load the new state dict\n",
    "model2.load_state_dict(model2_dict)"
   ]
  },
  {
   "cell_type": "code",
   "execution_count": 16,
   "metadata": {},
   "outputs": [
    {
     "name": "stdout",
     "output_type": "stream",
     "text": [
      "<bound method Module.named_modules of RNNModel(\n",
      "  (lockdrop): LockedDropout()\n",
      "  (idrop): Dropout(p=0.65)\n",
      "  (hdrop): Dropout(p=0.3)\n",
      "  (drop): Dropout(p=0.4)\n",
      "  (encoder): Embedding(238462, 400)\n",
      "  (rnns): ModuleList(\n",
      "    (0): WeightDrop(\n",
      "      (module): LSTM(400, 1150)\n",
      "    )\n",
      "    (1): WeightDrop(\n",
      "      (module): LSTM(1150, 1150)\n",
      "    )\n",
      "    (2): WeightDrop(\n",
      "      (module): LSTM(1150, 400)\n",
      "    )\n",
      "  )\n",
      "  (decoder): Linear(in_features=1150, out_features=238462, bias=True)\n",
      ")>\n"
     ]
    }
   ],
   "source": [
    "print(model2.named_modules)"
   ]
  },
  {
   "cell_type": "code",
   "execution_count": 39,
   "metadata": {},
   "outputs": [
    {
     "name": "stdout",
     "output_type": "stream",
     "text": [
      "<generator object Module.parameters at 0x7fb3586f3518>\n"
     ]
    }
   ],
   "source": [
    "# print(model2.decoder.parameters())\n",
    "model2.lockdrop.parameters()\n",
    "model2.idrop.parameters()\n",
    "model2.hdrop.parameters()\n",
    "model2.drop.parameters()\n",
    "model2.encoder.parameters()\n",
    "model2.decoder.parameters()"
   ]
  },
  {
   "cell_type": "code",
   "execution_count": 23,
   "metadata": {},
   "outputs": [
    {
     "name": "stdout",
     "output_type": "stream",
     "text": [
      "<bound method Module.parameters of ModuleList(\n",
      "  (0): WeightDrop(\n",
      "    (module): LSTM(400, 1150)\n",
      "  )\n",
      "  (1): WeightDrop(\n",
      "    (module): LSTM(1150, 1150)\n",
      "  )\n",
      "  (2): WeightDrop(\n",
      "    (module): LSTM(1150, 400)\n",
      "  )\n",
      ")>\n"
     ]
    }
   ],
   "source": [
    "print(model2.rnns.parameters)"
   ]
  },
  {
   "cell_type": "code",
   "execution_count": null,
   "metadata": {},
   "outputs": [],
   "source": [
    "optimizer = torch.optim.SGD([\n",
    "            {'params': model2.rnns[0].parameters(), 'lr': slant_lr/(2.6**2)},\n",
    "            {'params': model2.rnns[1].parameters(), 'lr': slant_lr/2.6},\n",
    "            {'params': model2.rnns[2].parameters(), 'lr': slant_lr}]) \n",
    "# , lr=opt.lr*0.1, momentum=0.9)\n",
    "# {'params': model.fc.parameters(), 'lr': slant_lr}\n"
   ]
  },
  {
   "cell_type": "code",
   "execution_count": null,
   "metadata": {},
   "outputs": [],
   "source": [
    "# ignored_params = list(map(id, model.fc.parameters()))\n",
    "# base_params = filter(lambda p: id(p) not in ignored_params,\n",
    "#                      model.parameters())\n",
    "\n",
    "# optimizer = torch.optim.SGD([\n",
    "#             {'params': base_params},\n",
    "#             {'params': model.fc.parameters(), 'lr': opt.lr}\n",
    "#         ], lr=opt.lr*0.1, momentum=0.9)"
   ]
  },
  {
   "cell_type": "code",
   "execution_count": 40,
   "metadata": {},
   "outputs": [],
   "source": [
    "# for name, param in model2.named_parameters():\n",
    "    # if param.requires_grad:\n",
    "    # print(name, param.data)"
   ]
  },
  {
   "cell_type": "code",
   "execution_count": 10,
   "metadata": {},
   "outputs": [],
   "source": [
    "# model2.eval()\n",
    "# corpus = data.Corpus(args_data)\n",
    "# ntokens = len(corpus.dictionary)\n",
    "# hidden1 = model2.init_hidden(1)\n",
    "# with torch.no_grad(): \n",
    "    # input1 = Variable(torch.rand(1, 1).mul(ntokens).long())\n",
    "    # input1=torch.tensor(torch.rand(1,1).mul(ntokens).long())\n",
    "# print(\"printing input and hidden below\")\n",
    "# print(input1)\n",
    "# print(hidden1)"
   ]
  },
  {
   "cell_type": "code",
   "execution_count": 11,
   "metadata": {},
   "outputs": [],
   "source": [
    "# output1, hidden1 = model2(input1, hidden1)"
   ]
  },
  {
   "cell_type": "code",
   "execution_count": 12,
   "metadata": {},
   "outputs": [],
   "source": [
    "# print(type(output1))\n",
    "# print(type(hidden1))"
   ]
  },
  {
   "cell_type": "code",
   "execution_count": 38,
   "metadata": {},
   "outputs": [
    {
     "name": "stderr",
     "output_type": "stream",
     "text": [
      "/home/amank/Documents/projects/ulmfit/venv/lib/python3.6/site-packages/ipykernel_launcher.py:62: UserWarning: volatile was removed and now has no effect. Use `with torch.no_grad():` instead.\n"
     ]
    },
    {
     "name": "stdout",
     "output_type": "stream",
     "text": [
      "| Generated 0/1000 words\n",
      "| Generated 100/1000 words\n",
      "| Generated 200/1000 words\n",
      "| Generated 300/1000 words\n",
      "| Generated 400/1000 words\n",
      "| Generated 500/1000 words\n",
      "| Generated 600/1000 words\n",
      "| Generated 700/1000 words\n",
      "| Generated 800/1000 words\n",
      "| Generated 900/1000 words\n"
     ]
    }
   ],
   "source": [
    "###############################################################################\n",
    "# Language Modeling Inference using pretrained wiki-103 weights\n",
    "#\n",
    "# This file generates new sentences sampled from the language model\n",
    "#\n",
    "###############################################################################\n",
    "\n",
    "# import argparse\n",
    "\n",
    "# import torch\n",
    "from torch.autograd import Variable\n",
    "\n",
    "# import data\n",
    "\n",
    "# parser = argparse.ArgumentParser(description='PyTorch PTB Language Model')\n",
    "\n",
    "# Model parameters.\n",
    "# Model parameters.\n",
    "sample_data=args_data\n",
    "sample_model='LSTM'\n",
    "sample_seed=1111\n",
    "sample_outf='generated.txt'\n",
    "sample_words=1000\n",
    "sample_temperature=1.0\n",
    "sample_log_interval=100\n",
    "sample_checkpoint='./sample_model.pt'\n",
    "torch.manual_seed(sample_seed)\n",
    "# parser.add_argument('--cuda', action='store_true',\n",
    "                    # help='use CUDA')\n",
    "# parser.add_argument('--temperature', type=float, default=1.0,\n",
    "                    # help='temperature - higher will increase diversity')\n",
    "# parser.add_argument('--log-interval', type=int, default=100,\n",
    "                    # help='reporting interval')\n",
    "\n",
    "# Set the random seed manually for reproducibility.\n",
    "# torch.manual_seed(args_seed)\n",
    "\n",
    "# if torch.cuda.is_available():\n",
    "#     if not args.cuda:\n",
    "#         print(\"WARNING: You have a CUDA device, so you should probably run with --cuda\")\n",
    "#     else:\n",
    "#         torch.cuda.manual_seed(args.seed)\n",
    "\n",
    "# if args.temperature < 1e-3:\n",
    "#     parser.error(\"--temperature has to be greater or equal 1e-3\")\n",
    "\n",
    "# with open(args.checkpoint, 'rb') as f:\n",
    "    # model = torch.load(f)\n",
    "\n",
    "model2.eval()\n",
    "# if args.model == 'QRNN':\n",
    "#     model.reset()\n",
    "\n",
    "# if args.cuda:\n",
    "#     model.cuda()\n",
    "# else:\n",
    "#     model.cpu()\n",
    "\n",
    "corpus = data.Corpus(sample_data)\n",
    "ntokens = len(corpus.dictionary)\n",
    "hidden = model2.init_hidden(1)\n",
    "input = Variable(torch.rand(1, 1).mul(ntokens).long(), volatile=True)\n",
    "\n",
    "with open(sample_outf, 'w') as outf:\n",
    "    for i in range(sample_words):\n",
    "        output, hidden = model2(input, hidden)\n",
    "        word_weights = output.squeeze().data.div(sample_temperature).exp().cpu()\n",
    "        word_idx = torch.multinomial(word_weights, 1)[0]\n",
    "        input.data.fill_(word_idx)\n",
    "        word = corpus.dictionary.idx2word[word_idx]\n",
    "\n",
    "        outf.write(word + ('\\n' if i % 20 == 19 else ' '))\n",
    "\n",
    "        if i % sample_log_interval == 0:\n",
    "            print('| Generated {}/{} words'.format(i, sample_words))"
   ]
  },
  {
   "cell_type": "code",
   "execution_count": null,
   "metadata": {},
   "outputs": [],
   "source": [
    "# contd with task_3.2\n",
    "# Finetuning LM --> discriminative fine-tuning & slanted triangular learning rates"
   ]
  },
  {
   "cell_type": "code",
   "execution_count": 1,
   "metadata": {},
   "outputs": [],
   "source": [
    "# 11/21/2K18\n",
    "# awd_lstm_lm finetune.py below"
   ]
  },
  {
   "cell_type": "code",
   "execution_count": 4,
   "metadata": {},
   "outputs": [
    {
     "data": {
      "text/plain": [
       "True"
      ]
     },
     "execution_count": 4,
     "metadata": {},
     "output_type": "execute_result"
    }
   ],
   "source": [
    "# torch.cuda.is_available()"
   ]
  },
  {
   "cell_type": "code",
   "execution_count": 5,
   "metadata": {},
   "outputs": [],
   "source": [
    "def batchify2(data, bsz, args_cuda):\n",
    "    # Work out how cleanly we can divide the dataset into bsz parts.\n",
    "    nbatch = data.size(0) // bsz\n",
    "    # Trim off any extra elements that wouldn't cleanly fit (remainders).\n",
    "    data = data.narrow(0, 0, nbatch * bsz)\n",
    "    # Evenly divide the data across the bsz batches.\n",
    "    data = data.view(bsz, -1).t().contiguous()\n",
    "    if args_cuda:\n",
    "        data = data.cuda()\n",
    "    return data\n",
    "\n",
    "\n",
    "def get_batch2(source, i, args_bptt, seq_len=None, evaluation=False):\n",
    "    seq_len = min(seq_len if seq_len else args_bptt, len(source) - 1 - i)\n",
    "    data = source[i:i+seq_len]\n",
    "    target = source[i+1:i+1+seq_len].view(-1)\n",
    "    return data, target"
   ]
  },
  {
   "cell_type": "code",
   "execution_count": 27,
   "metadata": {},
   "outputs": [],
   "source": [
    "# slant_lr=1e-2\n",
    "# optimizerTest = torch.optim.SGD([\n",
    "#             {'params': model2.rnns[0].parameters(), 'lr': slant_lr/(2.6**2)},\n",
    "#             {'params': model2.rnns[1].parameters(), 'lr': slant_lr/2.6},\n",
    "#             {'params': model2.rnns[2].parameters(), 'lr': slant_lr}]) "
   ]
  },
  {
   "cell_type": "code",
   "execution_count": 29,
   "metadata": {},
   "outputs": [
    {
     "name": "stdout",
     "output_type": "stream",
     "text": [
      "0.0014792899408284023\n",
      "0.003846153846153846\n",
      "0.01\n"
     ]
    }
   ],
   "source": [
    "for i in optimizerTest.param_groups:\n",
    "    print(i['lr'])"
   ]
  },
  {
   "cell_type": "code",
   "execution_count": null,
   "metadata": {},
   "outputs": [],
   "source": [
    "np.random.seed(331)\n",
    "\n",
    "# parser = argparse.ArgumentParser(description='PyTorch PennTreeBank RNN/LSTM Language Model')\n",
    "\n",
    "# data(train, valid, test files)_path, model_type, embeddingsize, nhid1150, nlayers, lr, clip, epochs=8000, batchsize, bptt, \n",
    "# dropout, dropouth, dropouti, dropoute, wdrop, tied, seed1111, nonmono5, log_interval, randomhash_save, alpha, beta, \n",
    "# wdecay1.2e-6\n",
    "\n",
    "# Set the random seed manually for reproducibility.\n",
    "# torch.manual_seed(args.seed)\n",
    "if torch.cuda.is_available():\n",
    "    if not args_cuda:\n",
    "        print(\"WARNING: You have a CUDA device, so you should probably run with --cuda\")\n",
    "    else:\n",
    "        torch.cuda.manual_seed(args_seed)\n"
   ]
  },
  {
   "cell_type": "code",
   "execution_count": null,
   "metadata": {},
   "outputs": [],
   "source": [
    "###############################################################################\n",
    "# Load data\n",
    "###############################################################################\n",
    "\n",
    "corpus = data.Corpus(args_data)\n",
    "\n",
    "eval_batch_size = 10\n",
    "test_batch_size = 1\n",
    "\n",
    "# should i use batchify here?\n",
    "train_data = batchify2(corpus.train, args_batchSize, args_cuda)\n",
    "val_data = batchify2(corpus.valid, eval_batch_size, args_cuda)\n",
    "test_data = batchify2(corpus.test, test_batch_size, args_cuda)\n"
   ]
  },
  {
   "cell_type": "code",
   "execution_count": null,
   "metadata": {},
   "outputs": [],
   "source": [
    "###############################################################################\n",
    "# Build the model\n",
    "###############################################################################\n",
    "\n",
    "ntokens = len(corpus.dictionary)\n",
    "model3 = model.RNNModel(args_model, ntokens, args_embedSize, args_nhid, args_nlayers, args_dropout, args_dropouth, args_dropouti, args_dropoute, args_wdrop, args_tied)\n",
    "if args_cuda:\n",
    "    model3.cuda()\n",
    "total_params = sum(x.size()[0] * x.size()[1] if len(x.size()) > 1 else x.size()[0] for x in model3.parameters())\n",
    "# print('Args:', args)\n",
    "print('Model total parameters:', total_params)\n",
    "\n",
    "criterion3 = nn.CrossEntropyLoss()\n"
   ]
  },
  {
   "cell_type": "code",
   "execution_count": null,
   "metadata": {},
   "outputs": [],
   "source": [
    "###############################################################################\n",
    "# Training code\n",
    "###############################################################################\n",
    "\n",
    "def disc_finetune(slant_lr):\n",
    "    optimizer = torch.optim.SGD([\n",
    "            {'params': model2.rnns[0].parameters(), 'lr': slant_lr/(2.6**2)},\n",
    "            {'params': model2.rnns[1].parameters(), 'lr': slant_lr/2.6},\n",
    "            {'params': model2.rnns[2].parameters(), 'lr': slant_lr}, \n",
    "            {'params': model2.lockdrop.parameters()},\n",
    "            {'params': model2.idrop.parameters()},\n",
    "            {'params': model2.hdrop.parameters()},\n",
    "            {'params': model2.drop.parameters()},\n",
    "            {'params': model2.encoder.parameters()},\n",
    "            {'params': model2.decoder.parameters()}], lr=args_lr) \n",
    "    return optimizer\n",
    "\n",
    "def slanTriangular(T, cut_frac, ratio, lrMax):\n",
    "    # T = no: of epochs * no: of updates/epoch\n",
    "    # cut_frac = 0.1\n",
    "    # ratio=32\n",
    "    # lrMax=0.01\n",
    "    cut=math.floor(T*cut_frac)\n",
    "    for t in range(1, T+1):\n",
    "        if t<cut:\n",
    "            p=t/cut\n",
    "        else:\n",
    "            p=1-((t-cut)/(cut*(1/(cut_frac-1))))\n",
    "        lr_t=lrMax*((1+(p*(ratio-1)))/ratio)\n",
    "        optim_finetune=disc_finetune(lr_t)\n",
    "    \n",
    "def evaluate(data_source, batch_size=10):\n",
    "    # Turn on evaluation mode which disables dropout.\n",
    "    if args_model == 'QRNN': model.reset()\n",
    "    model.eval()\n",
    "    total_loss = 0\n",
    "    ntokens = len(corpus.dictionary)\n",
    "    hidden = model.init_hidden(batch_size)\n",
    "    for i in range(0, data_source.size(0) - 1, args_bptt):\n",
    "        data, targets = get_batch2(data_source, i, args_bptt, evaluation=True)\n",
    "        output, hidden = model3(data, hidden)\n",
    "        output_flat = output.view(-1, ntokens)\n",
    "        total_loss += len(data) * criterion(output_flat, targets).data\n",
    "        hidden = repackage_hidden(hidden)\n",
    "    print(total_loss.shape)\n",
    "    return total_loss[0] / len(data_source)\n",
    "\n",
    "\n",
    "def train():\n",
    "    # Turn on training mode which enables dropout. \n",
    "    if args.model == 'QRNN': model.reset()\n",
    "    total_loss = 0\n",
    "    start_time = time.time()\n",
    "    ntokens = len(corpus.dictionary)\n",
    "    hidden = model.init_hidden(args.batch_size)\n",
    "    batch, i = 0, 0\n",
    "    while i < train_data.size(0) - 1 - 1:\n",
    "        bptt = args.bptt if np.random.random() < 0.95 else args.bptt / 2.\n",
    "        # Prevent excessively small or negative sequence lengths\n",
    "        seq_len = max(5, int(np.random.normal(bptt, 5)))\n",
    "        # There's a very small chance that it could select a very long sequence length resulting in OOM\n",
    "        seq_len = min(seq_len, args.bptt + 10)\n",
    "\n",
    "        lr2 = optimizer.param_groups[0]['lr']\n",
    "        print(\"seq len\")\n",
    "        print(seq_len)\n",
    "        optimizer.param_groups[0]['lr'] = lr2 * seq_len / args.bptt\n",
    "        model.train()\n",
    "        data, targets = get_batch(train_data, i, args, seq_len=seq_len)\n",
    "\n",
    "        # Starting each batch, we detach the hidden state from how it was previously produced.\n",
    "        # If we didn't, the model would try backpropagating all the way to start of the dataset.\n",
    "        hidden = repackage_hidden(hidden)\n",
    "        optimizer.zero_grad()\n",
    "\n",
    "        output, hidden, rnn_hs, dropped_rnn_hs = model(data, hidden, return_h=True)\n",
    "        raw_loss = criterion(output.view(-1, ntokens), targets)\n",
    "\n",
    "        loss = raw_loss\n",
    "        # Activiation Regularization\n",
    "        loss = loss + sum(args.alpha * dropped_rnn_h.pow(2).mean() for dropped_rnn_h in dropped_rnn_hs[-1:])\n",
    "        # Temporal Activation Regularization (slowness)\n",
    "        loss = loss + sum(args.beta * (rnn_h[1:] - rnn_h[:-1]).pow(2).mean() for rnn_h in rnn_hs[-1:])\n",
    "        loss.backward()\n",
    "\n",
    "        # `clip_grad_norm` helps prevent the exploding gradient problem in RNNs / LSTMs.\n",
    "        torch.nn.utils.clip_grad_norm(model.parameters(), args.clip)\n",
    "        optimizer.step()\n",
    "\n",
    "        total_loss += raw_loss.data\n",
    "        optimizer.param_groups[0]['lr'] = lr2\n",
    "        if batch % args.log_interval == 0 and batch > 0:\n",
    "            cur_loss = total_loss[0] / args.log_interval\n",
    "            elapsed = time.time() - start_time\n",
    "            print('| epoch {:3d} | {:5d}/{:5d} batches | lr {:02.2f} | ms/batch {:5.2f} | '\n",
    "                    'loss {:5.2f} | ppl {:8.2f}'.format(\n",
    "                epoch, batch, len(train_data) // args.bptt, optimizer.param_groups[0]['lr'],\n",
    "                elapsed * 1000 / args.log_interval, cur_loss, math.exp(cur_loss)))\n",
    "            total_loss = 0\n",
    "            start_time = time.time()\n",
    "        ###\n",
    "        batch += 1\n",
    "        i += seq_len\n",
    "\n",
    "\n",
    "# Load the best saved model.\n",
    "with open(args.save, 'rb') as f:\n",
    "    model = torch.load(f)\n"
   ]
  },
  {
   "cell_type": "code",
   "execution_count": null,
   "metadata": {},
   "outputs": [],
   "source": [
    "# Loop over epochs.\n",
    "lr = args.lr\n",
    "stored_loss = evaluate(val_data)\n",
    "best_val_loss = []\n",
    "# At any point you can hit Ctrl + C to break out of training early.\n",
    "try:\n",
    "    #optimizer = torch.optim.ASGD(model.parameters(), lr=args.lr, weight_decay=args.wdecay)\n",
    "    optimizer = torch.optim.ASGD(model.parameters(), lr=args.lr, t0=0, lambd=0., weight_decay=args.wdecay)\n",
    "    for epoch in range(1, args.epochs+1):\n",
    "        epoch_start_time = time.time()\n",
    "        train()\n",
    "        if 't0' in optimizer.param_groups[0]:\n",
    "            tmp = {}\n",
    "            for prm in model.parameters():\n",
    "                tmp[prm] = prm.data.clone()\n",
    "                prm.data = optimizer.state[prm]['ax'].clone()\n",
    "\n",
    "            val_loss2 = evaluate(val_data)\n",
    "            print('-' * 89)\n",
    "            print('| end of epoch {:3d} | time: {:5.2f}s | valid loss {:5.2f} | '\n",
    "                    'valid ppl {:8.2f}'.format(epoch, (time.time() - epoch_start_time),\n",
    "                                               val_loss2, math.exp(val_loss2)))\n",
    "            print('-' * 89)\n",
    "\n",
    "            if val_loss2 < stored_loss:\n",
    "                with open(args.save, 'wb') as f:\n",
    "                    torch.save(model, f)\n",
    "                print('Saving Averaged!')\n",
    "                stored_loss = val_loss2\n",
    "\n",
    "            for prm in model.parameters():\n",
    "                prm.data = tmp[prm].clone()\n",
    "\n",
    "        if (len(best_val_loss)>args.nonmono and val_loss2 > min(best_val_loss[:-args.nonmono])):\n",
    "            print('Done!')\n",
    "            import sys\n",
    "            sys.exit(1)\n",
    "            optimizer = torch.optim.ASGD(model.parameters(), lr=args.lr, t0=0, lambd=0., weight_decay=args.wdecay)\n",
    "            #optimizer.param_groups[0]['lr'] /= 2.\n",
    "        best_val_loss.append(val_loss2)\n",
    "\n",
    "except KeyboardInterrupt:\n",
    "    print('-' * 89)\n",
    "    print('Exiting from training early')\n",
    "\n",
    "# Load the best saved model.\n",
    "with open(args.save, 'rb') as f:\n",
    "    model = torch.load(f)\n",
    "    \n",
    "# Run on test data.\n",
    "test_loss = evaluate(test_data, test_batch_size)\n",
    "print('=' * 89)\n",
    "print('| End of training | test loss {:5.2f} | test ppl {:8.2f}'.format(\n",
    "    test_loss, math.exp(test_loss)))\n",
    "print('=' * 89)"
   ]
  }
 ],
 "metadata": {
  "kernelspec": {
   "display_name": "Python 3",
   "language": "python",
   "name": "python3"
  }
 },
 "nbformat": 4,
 "nbformat_minor": 2
}
